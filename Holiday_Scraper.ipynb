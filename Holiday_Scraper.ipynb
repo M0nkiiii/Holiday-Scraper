{
  "nbformat": 4,
  "nbformat_minor": 0,
  "metadata": {
    "colab": {
      "provenance": []
    },
    "kernelspec": {
      "name": "python3",
      "display_name": "Python 3"
    },
    "language_info": {
      "name": "python"
    }
  },
  "cells": [
    {
      "cell_type": "code",
      "source": [
        "import requests\n",
        "import pandas as pd\n",
        "from bs4 import BeautifulSoup"
      ],
      "metadata": {
        "id": "NIt9rJCojh4K"
      },
      "execution_count": 35,
      "outputs": []
    },
    {
      "cell_type": "code",
      "source": [
        "def scrape_holidays(country: str, year: int):\n",
        "    country = country.strip().lower().replace(\" \", \"-\")\n",
        "    url = f\"https://www.timeanddate.com/holidays/{country}/{year}\"\n",
        "\n",
        "    response = requests.get(url)\n",
        "    if response.status_code == 404:\n",
        "        print(f\"No holiday data found for {country} in {year}.\")\n",
        "        return\n",
        "\n",
        "    response.raise_for_status()\n",
        "    soup = BeautifulSoup(response.content, 'html.parser')\n",
        "    table = soup.find('table', class_='table--holidaycountry')\n",
        "    if not table:\n",
        "        print(f\"No holiday table found for {country} in {year}.\")\n",
        "        return\n",
        "\n",
        "    headers = ['Date', 'Weekday', 'Name', 'Type']\n",
        "    data = []\n",
        "\n",
        "    for row in table.find_all('tr'):\n",
        "        date_cell = row.find('th')\n",
        "        cells = row.find_all('td')\n",
        "        if date_cell and len(cells) >= 3:\n",
        "            raw_date = date_cell.text.strip()\n",
        "            weekday = cells[0].text.strip()\n",
        "            name = cells[1].text.strip()\n",
        "            holiday_type = cells[2].text.strip()\n",
        "            data.append([raw_date, weekday, name, holiday_type])\n",
        "\n",
        "    df = pd.DataFrame(data, columns=headers)\n",
        "\n",
        "    try:\n",
        "        df['Date'] = pd.to_datetime(df['Date'] + f\" {year}\")\n",
        "    except Exception as e:\n",
        "        print(\"Date parsing failed:\", e)\n",
        "\n",
        "    filename = f\"{country}_holidays_{year}.csv\"\n",
        "    df.to_csv(filename, index=False)\n",
        "    print(f\"Saved: {filename}\")\n",
        "    print(df.head())"
      ],
      "metadata": {
        "id": "D2WNdW8Ul5DW"
      },
      "execution_count": 36,
      "outputs": []
    },
    {
      "cell_type": "markdown",
      "source": [
        "# Usage"
      ],
      "metadata": {
        "id": "2N2Z51C0mC_T"
      }
    },
    {
      "cell_type": "code",
      "source": [
        "#scrape_holidays(\"country\", year) (Change the country and year as you need)\n",
        "\n",
        "# scrape_holidays(\"austria\", 2029)\n",
        "# scrape_holidays(\"Australia\", 2019)\n",
        "scrape_holidays(\"Ghana\", 2023)"
      ],
      "metadata": {
        "colab": {
          "base_uri": "https://localhost:8080/"
        },
        "id": "UBjJaHBymAbs",
        "outputId": "d9407dad-8c4b-48b2-addf-c3aeb962b766"
      },
      "execution_count": 37,
      "outputs": [
        {
          "output_type": "stream",
          "name": "stdout",
          "text": [
            "Saved: ghana_holidays_2023.csv\n",
            "        Date   Weekday                          Name            Type\n",
            "0 2023-01-01    Sunday                New Year's Day  Public Holiday\n",
            "1 2023-01-07  Saturday              Constitution Day  Public Holiday\n",
            "2 2023-01-09    Monday  Day off for Constitution Day  Public Holiday\n",
            "3 2023-03-06    Monday              Independence Day  Public Holiday\n",
            "4 2023-03-20    Monday                 March Equinox          Season\n"
          ]
        }
      ]
    },
    {
      "cell_type": "code",
      "source": [],
      "metadata": {
        "id": "4JgPnWJfmShk"
      },
      "execution_count": 37,
      "outputs": []
    }
  ]
}